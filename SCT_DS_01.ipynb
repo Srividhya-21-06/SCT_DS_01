import matplotlib.pyplot as plt
genders = ['Male', 'Female', 'Other']
counts = [45, 35, 5]
plt.figure(figsize=(7,5))
plt.bar(genders, counts, color=['blue', 'purple', 'red'])
plt.title('Gender Distribution in a Population', fontsize=14)
plt.xlabel('Gender')
plt.ylabel('Number of People')
plt.grid(axis='y')
plt.show()
